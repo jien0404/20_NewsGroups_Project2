{
 "cells": [
  {
   "cell_type": "code",
   "execution_count": 11,
   "metadata": {},
   "outputs": [],
   "source": [
    "import os\n",
    "import numpy as np\n",
    "import pandas as pd\n",
    "import torch\n",
    "import torch.nn as nn\n",
    "import torch.optim as optim\n",
    "from torch.utils.data import DataLoader, TensorDataset\n",
    "from sklearn.metrics import accuracy_score, classification_report\n",
    "import joblib\n",
    "import gensim.downloader as api\n",
    "from sklearn.preprocessing import LabelEncoder\n",
    "from tqdm import tqdm\n",
    "import torch.nn.functional as F\n"
   ]
  },
  {
   "cell_type": "markdown",
   "metadata": {},
   "source": [
    "# 1. Setup & Data Loading"
   ]
  },
  {
   "cell_type": "code",
   "execution_count": 12,
   "metadata": {},
   "outputs": [],
   "source": [
    "BASE_DIR = os.path.abspath(os.path.join(os.getcwd(), \"../..\"))\n",
    "DATA_DIR = os.path.join(BASE_DIR, \"data/processed\")\n",
    "RESULTS_DIR = os.path.join(BASE_DIR, \"results/tables\")\n",
    "MODEL_DIR = os.path.join(BASE_DIR, \"models/deep_learning\")\n",
    "os.makedirs(RESULTS_DIR, exist_ok=True)\n",
    "os.makedirs(MODEL_DIR, exist_ok=True)\n",
    "\n",
    "train_df = pd.read_csv(os.path.join(DATA_DIR, \"train.csv\"))\n",
    "val_df   = pd.read_csv(os.path.join(DATA_DIR, \"val.csv\"))\n",
    "test_df  = pd.read_csv(os.path.join(DATA_DIR, \"test.csv\"))"
   ]
  },
  {
   "cell_type": "markdown",
   "metadata": {},
   "source": [
    "# 2. Label Encoding"
   ]
  },
  {
   "cell_type": "code",
   "execution_count": 13,
   "metadata": {},
   "outputs": [
    {
     "name": "stdout",
     "output_type": "stream",
     "text": [
      "Encoded labels: ['alt.atheism' 'comp.graphics' 'comp.os.ms-windows.misc'\n",
      " 'comp.sys.ibm.pc.hardware' 'comp.sys.mac.hardware' 'comp.windows.x'\n",
      " 'misc.forsale' 'rec.autos' 'rec.motorcycles' 'rec.sport.baseball'\n",
      " 'rec.sport.hockey' 'sci.crypt' 'sci.electronics' 'sci.med' 'sci.space'\n",
      " 'soc.religion.christian' 'talk.politics.guns' 'talk.politics.mideast'\n",
      " 'talk.politics.misc' 'talk.religion.misc']\n"
     ]
    }
   ],
   "source": [
    "label_encoder = LabelEncoder()\n",
    "train_df['label_enc'] = label_encoder.fit_transform(train_df['label'])\n",
    "val_df['label_enc'] = label_encoder.transform(val_df['label'])\n",
    "test_df['label_enc'] = label_encoder.transform(test_df['label'])\n",
    "num_classes = len(label_encoder.classes_)\n",
    "joblib.dump(label_encoder, os.path.join(MODEL_DIR, \"label_encoder.pkl\"))\n",
    "print(f\"Encoded labels: {label_encoder.classes_}\")"
   ]
  },
  {
   "cell_type": "markdown",
   "metadata": {},
   "source": [
    "# 3. GloVe Embeddings"
   ]
  },
  {
   "cell_type": "code",
   "execution_count": 14,
   "metadata": {},
   "outputs": [
    {
     "name": "stdout",
     "output_type": "stream",
     "text": [
      "Loading GloVe embeddings...\n"
     ]
    }
   ],
   "source": [
    "print(\"Loading GloVe embeddings...\")\n",
    "glove_model = api.load(\"glove-wiki-gigaword-100\")\n",
    "embedding_dim = 100\n",
    "\n",
    "def text_to_embedding_sequence(text, glove_model, embedding_dim=100):\n",
    "    tokens = text.split()\n",
    "    vectors = [glove_model[token] for token in tokens if token in glove_model]\n",
    "    return vectors"
   ]
  },
  {
   "cell_type": "markdown",
   "metadata": {},
   "source": [
    "# 4. Padding sequences"
   ]
  },
  {
   "cell_type": "code",
   "execution_count": 15,
   "metadata": {},
   "outputs": [
    {
     "name": "stdout",
     "output_type": "stream",
     "text": [
      "Converting train texts to sequences...\n",
      "Converting validation texts to sequences...\n",
      "Converting test texts to sequences...\n"
     ]
    }
   ],
   "source": [
    "def pad_sequences(sequences, max_len, embedding_dim=100):\n",
    "    padded = []\n",
    "    for seq in sequences:\n",
    "        if len(seq) < max_len:\n",
    "            pad_len = max_len - len(seq)\n",
    "            seq = seq + [np.zeros(embedding_dim)] * pad_len\n",
    "        else:\n",
    "            seq = seq[:max_len]\n",
    "        padded.append(seq)\n",
    "    return np.array(padded)\n",
    "\n",
    "max_seq_len = 100\n",
    "\n",
    "print(\"Converting train texts to sequences...\")\n",
    "train_sequences = [text_to_embedding_sequence(text, glove_model, embedding_dim) for text in train_df['clean_text']]\n",
    "X_train_seq = pad_sequences(train_sequences, max_seq_len, embedding_dim)\n",
    "\n",
    "print(\"Converting validation texts to sequences...\")\n",
    "val_sequences = [text_to_embedding_sequence(text, glove_model, embedding_dim) for text in val_df['clean_text']]\n",
    "X_val_seq = pad_sequences(val_sequences, max_seq_len, embedding_dim)\n",
    "\n",
    "print(\"Converting test texts to sequences...\")\n",
    "test_sequences = [text_to_embedding_sequence(text, glove_model, embedding_dim) for text in test_df['clean_text']]\n",
    "X_test_seq = pad_sequences(test_sequences, max_seq_len, embedding_dim)\n",
    "\n",
    "y_train = train_df['label_enc'].values\n",
    "y_val = val_df['label_enc'].values\n",
    "y_test = test_df['label_enc'].values"
   ]
  },
  {
   "cell_type": "markdown",
   "metadata": {},
   "source": [
    "# 5. Data to Tensors"
   ]
  },
  {
   "cell_type": "code",
   "execution_count": 16,
   "metadata": {},
   "outputs": [
    {
     "name": "stdout",
     "output_type": "stream",
     "text": [
      "Train set: 15997 samples\n",
      "Validation set: 2000 samples\n",
      "Test set: 2000 samples\n"
     ]
    }
   ],
   "source": [
    "X_train_tensor = torch.tensor(X_train_seq, dtype=torch.float32)\n",
    "X_val_tensor   = torch.tensor(X_val_seq, dtype=torch.float32)\n",
    "X_test_tensor  = torch.tensor(X_test_seq, dtype=torch.float32)\n",
    "\n",
    "y_train_tensor = torch.tensor(y_train, dtype=torch.long)\n",
    "y_val_tensor   = torch.tensor(y_val, dtype=torch.long)\n",
    "y_test_tensor  = torch.tensor(y_test, dtype=torch.long)\n",
    "\n",
    "train_dataset = TensorDataset(X_train_tensor, y_train_tensor)\n",
    "val_dataset   = TensorDataset(X_val_tensor, y_val_tensor)\n",
    "test_dataset  = TensorDataset(X_test_tensor, y_test_tensor)\n",
    "\n",
    "train_loader = DataLoader(train_dataset, batch_size=32, shuffle=True)\n",
    "val_loader   = DataLoader(val_dataset, batch_size=32, shuffle=False)\n",
    "test_loader  = DataLoader(test_dataset, batch_size=32, shuffle=False)\n",
    "\n",
    "print(f\"Train set: {len(train_dataset)} samples\")\n",
    "print(f\"Validation set: {len(val_dataset)} samples\")\n",
    "print(f\"Test set: {len(test_dataset)} samples\")"
   ]
  },
  {
   "cell_type": "markdown",
   "metadata": {},
   "source": [
    "# 6. Model Definitions"
   ]
  },
  {
   "cell_type": "code",
   "execution_count": 17,
   "metadata": {},
   "outputs": [],
   "source": [
    "class LSTMClassifier(nn.Module):\n",
    "    def __init__(self, embedding_dim, hidden_dim=128, num_layers=1, output_dim=2, dropout_rate=0.5):\n",
    "        super(LSTMClassifier, self).__init__()\n",
    "        self.lstm = nn.LSTM(\n",
    "            input_size=embedding_dim, \n",
    "            hidden_size=hidden_dim, \n",
    "            num_layers=num_layers, \n",
    "            batch_first=True, \n",
    "            dropout=dropout_rate if num_layers > 1 else 0\n",
    "        )\n",
    "        self.dropout = nn.Dropout(dropout_rate)\n",
    "        self.fc = nn.Linear(hidden_dim, output_dim)\n",
    "\n",
    "    def forward(self, x):\n",
    "        lstm_out, (hn, cn) = self.lstm(x)\n",
    "        hidden = hn[-1]\n",
    "        hidden = self.dropout(hidden)\n",
    "        out = self.fc(hidden)\n",
    "        return out"
   ]
  },
  {
   "cell_type": "code",
   "execution_count": 18,
   "metadata": {},
   "outputs": [],
   "source": [
    "class CNNClassifier(nn.Module):\n",
    "    def __init__(self, embedding_dim, max_seq_len, num_classes, num_filters=100, kernel_sizes=[3, 4, 5], dropout_rate=0.5):\n",
    "        super(CNNClassifier, self).__init__()\n",
    "        self.convs = nn.ModuleList([\n",
    "            nn.Conv1d(in_channels=embedding_dim, out_channels=num_filters, kernel_size=k) for k in kernel_sizes\n",
    "        ])\n",
    "        self.dropout = nn.Dropout(dropout_rate)\n",
    "        self.fc = nn.Linear(num_filters * len(kernel_sizes), num_classes)\n",
    "        self.max_seq_len = max_seq_len\n",
    "\n",
    "    def forward(self, x):\n",
    "        x = x.permute(0, 2, 1)  # (batch, seq_len, embedding_dim) -> (batch, embedding_dim, seq_len)\n",
    "        x = [F.relu(conv(x)).max(dim=2)[0] for conv in self.convs]  # Convolution + Global Max Pooling\n",
    "        x = torch.cat(x, dim=1)  # Concatenate feature maps\n",
    "        x = self.dropout(x)\n",
    "        x = self.fc(x)\n",
    "        return x"
   ]
  },
  {
   "cell_type": "markdown",
   "metadata": {},
   "source": [
    "# 7. Training and Evaluation"
   ]
  },
  {
   "cell_type": "markdown",
   "metadata": {},
   "source": [
    "Training"
   ]
  },
  {
   "cell_type": "code",
   "execution_count": 19,
   "metadata": {},
   "outputs": [],
   "source": [
    "device = torch.device(\"cuda\" if torch.cuda.is_available() else \"cpu\")\n",
    "\n",
    "def train_model(model, train_loader, val_loader, criterion, optimizer, epochs=20, patience=5, model_name=\"Model\"):\n",
    "    model = model.to(device) #Move model to device\n",
    "    best_val_loss = float('inf')\n",
    "    best_model_state = None\n",
    "    best_val_acc = 0\n",
    "    epochs_no_improve = 0\n",
    "\n",
    "    for epoch in range(epochs):\n",
    "        model.train()\n",
    "        running_loss = 0.0\n",
    "        correct, total = 0, 0\n",
    "\n",
    "        progress_bar = tqdm(train_loader, desc=f\"Epoch {epoch+1}/{epochs} - {model_name}\", leave=False)\n",
    "\n",
    "        for X_batch, y_batch in progress_bar:\n",
    "            X_batch, y_batch = X_batch.to(device), y_batch.to(device) #Move data to device\n",
    "\n",
    "            optimizer.zero_grad()\n",
    "            outputs = model(X_batch)\n",
    "            loss = criterion(outputs, y_batch)\n",
    "            loss.backward()\n",
    "            optimizer.step()\n",
    "\n",
    "            running_loss += loss.item()\n",
    "            _, predicted = torch.max(outputs, 1)\n",
    "            total += y_batch.size(0)\n",
    "            correct += (predicted == y_batch).sum().item()\n",
    "\n",
    "            progress_bar.set_postfix(loss=loss.item(), acc=100 * correct / total)\n",
    "\n",
    "        # Validation\n",
    "        model.eval()\n",
    "        val_correct, val_total = 0, 0\n",
    "        val_predictions = []\n",
    "        val_true_labels = []\n",
    "        total_val_loss = 0.0  # Initialize total_val_loss\n",
    "        val_report = {} #initialise to empty dictionary\n",
    "        with torch.no_grad():\n",
    "            for X_val_batch, y_val_batch in val_loader:\n",
    "                X_val_batch, y_val_batch = X_val_batch.to(device), y_val_batch.to(device) #Move data to device\n",
    "                val_outputs = model(X_val_batch)\n",
    "                loss = criterion(val_outputs, y_val_batch)\n",
    "                total_val_loss += loss.item()\n",
    "                _, val_predicted = torch.max(val_outputs, 1)\n",
    "                val_total += y_val_batch.size(0)\n",
    "                val_correct += (val_predicted == y_val_batch).sum().item()\n",
    "                val_predictions.extend(val_predicted.cpu().numpy())\n",
    "                val_true_labels.extend(y_val_batch.cpu().numpy())\n",
    "\n",
    "        val_acc = 100 * val_correct / val_total\n",
    "        avg_val_loss = total_val_loss / len(val_loader) if len(val_loader) > 0 else 0.0 #handle case of val_loader being empty\n",
    "        val_report = classification_report(val_true_labels, val_predictions, output_dict=True, zero_division=0) if len(val_loader) > 0 else {}\n",
    "\n",
    "        print(f\"Epoch {epoch+1}/{epochs} - Loss: {running_loss/len(train_loader):.4f} - Val Loss: {avg_val_loss:.4f} - Val Acc: {val_acc:.2f}% - {model_name}\")\n",
    "\n",
    "        if avg_val_loss < best_val_loss:\n",
    "            best_val_loss = avg_val_loss\n",
    "            best_val_acc = val_acc\n",
    "            epochs_no_improve = 0\n",
    "            best_model_state = model.state_dict()\n",
    "        else:\n",
    "            epochs_no_improve += 1\n",
    "\n",
    "        if epochs_no_improve >= patience:\n",
    "            print(f\"Early stopping triggered at epoch {epoch+1} - {model_name}\")\n",
    "            break\n",
    "\n",
    "    model.load_state_dict(best_model_state)\n",
    "    print(f\"Best Validation Accuracy: {best_val_acc:.2f}% - {model_name}\")\n",
    "    return model, best_val_acc, val_report"
   ]
  },
  {
   "cell_type": "markdown",
   "metadata": {},
   "source": [
    "evaluation"
   ]
  },
  {
   "cell_type": "code",
   "execution_count": 20,
   "metadata": {},
   "outputs": [],
   "source": [
    "def evaluate_model(model, test_loader, model_name=\"Model\"):\n",
    "    model.eval()\n",
    "    predictions = []\n",
    "    true_labels = []\n",
    "    with torch.no_grad():\n",
    "        for X_batch, y_batch in test_loader:\n",
    "            X_batch, y_batch = X_batch.to(device), y_batch.to(device) #Move data to device\n",
    "            outputs = model(X_batch)\n",
    "            _, predicted = torch.max(outputs, 1)\n",
    "            predictions.extend(predicted.cpu().numpy())\n",
    "            true_labels.extend(y_batch.cpu().numpy())\n",
    "\n",
    "    test_accuracy = accuracy_score(true_labels, predictions)\n",
    "    report = classification_report(true_labels, predictions, output_dict=True, zero_division=0)\n",
    "    print(f\"Test Accuracy: {test_accuracy:.2f}% - {model_name}\")\n",
    "    print(classification_report(true_labels, predictions))\n",
    "    return test_accuracy, report"
   ]
  },
  {
   "cell_type": "code",
   "execution_count": 21,
   "metadata": {},
   "outputs": [],
   "source": [
    "def save_results(model_name, test_accuracy, report, val_accuracy, val_report):\n",
    "    results = {\n",
    "        \"Model\": model_name,\n",
    "        \"Test_Accuracy\": test_accuracy,\n",
    "        \"Test_Precision\": report['weighted avg']['precision'],\n",
    "        \"Test_Recall\": report['weighted avg']['recall'],\n",
    "        \"Test_F1-Score\": report['weighted avg']['f1-score'],\n",
    "        \"Val_Accuracy\": val_accuracy,\n",
    "        \"Val_Precision\": val_report['weighted avg']['precision'],\n",
    "        \"Val_Recall\": val_report['weighted avg']['recall'],\n",
    "        \"Val_F1-Score\": val_report['weighted avg']['f1-score']\n",
    "    }\n",
    "    results_df = pd.DataFrame([results])\n",
    "    results_file = os.path.join(RESULTS_DIR, \"deep_models_results.csv\")\n",
    "    if not os.path.exists(results_file):\n",
    "        results_df.to_csv(results_file, index=False, header=True)\n",
    "    else:\n",
    "        results_df.to_csv(results_file, index=False, header=False, mode='a')\n",
    "    print(f\"Deep Learning results saved to: {results_file}\")"
   ]
  },
  {
   "cell_type": "markdown",
   "metadata": {},
   "source": [
    "# 8. Model Training and Evaluation"
   ]
  },
  {
   "cell_type": "markdown",
   "metadata": {},
   "source": [
    "LSTM"
   ]
  },
  {
   "cell_type": "code",
   "execution_count": 23,
   "metadata": {},
   "outputs": [
    {
     "name": "stderr",
     "output_type": "stream",
     "text": [
      "                                                                                         \r"
     ]
    },
    {
     "name": "stdout",
     "output_type": "stream",
     "text": [
      "Epoch 1/20 - Loss: 2.3465 - Val Loss: 1.9043 - Val Acc: 33.35% - LSTM\n"
     ]
    },
    {
     "name": "stderr",
     "output_type": "stream",
     "text": [
      "                                                                                         \r"
     ]
    },
    {
     "name": "stdout",
     "output_type": "stream",
     "text": [
      "Epoch 2/20 - Loss: 1.8623 - Val Loss: 1.9134 - Val Acc: 33.25% - LSTM\n"
     ]
    },
    {
     "name": "stderr",
     "output_type": "stream",
     "text": [
      "                                                                                          \r"
     ]
    },
    {
     "name": "stdout",
     "output_type": "stream",
     "text": [
      "Epoch 3/20 - Loss: 1.4056 - Val Loss: 1.0972 - Val Acc: 53.65% - LSTM\n"
     ]
    },
    {
     "name": "stderr",
     "output_type": "stream",
     "text": [
      "                                                                                          \r"
     ]
    },
    {
     "name": "stdout",
     "output_type": "stream",
     "text": [
      "Epoch 4/20 - Loss: 0.9962 - Val Loss: 0.6110 - Val Acc: 71.30% - LSTM\n"
     ]
    },
    {
     "name": "stderr",
     "output_type": "stream",
     "text": [
      "                                                                                          \r"
     ]
    },
    {
     "name": "stdout",
     "output_type": "stream",
     "text": [
      "Epoch 5/20 - Loss: 0.7996 - Val Loss: 1.4692 - Val Acc: 49.90% - LSTM\n"
     ]
    },
    {
     "name": "stderr",
     "output_type": "stream",
     "text": [
      "                                                                                          \r"
     ]
    },
    {
     "name": "stdout",
     "output_type": "stream",
     "text": [
      "Epoch 6/20 - Loss: 1.7354 - Val Loss: 1.3237 - Val Acc: 53.85% - LSTM\n"
     ]
    },
    {
     "name": "stderr",
     "output_type": "stream",
     "text": [
      "                                                                                          \r"
     ]
    },
    {
     "name": "stdout",
     "output_type": "stream",
     "text": [
      "Epoch 7/20 - Loss: 0.9106 - Val Loss: 0.5301 - Val Acc: 77.40% - LSTM\n"
     ]
    },
    {
     "name": "stderr",
     "output_type": "stream",
     "text": [
      "                                                                                          \r"
     ]
    },
    {
     "name": "stdout",
     "output_type": "stream",
     "text": [
      "Epoch 8/20 - Loss: 0.5274 - Val Loss: 0.4424 - Val Acc: 81.05% - LSTM\n"
     ]
    },
    {
     "name": "stderr",
     "output_type": "stream",
     "text": [
      "                                                                                          \r"
     ]
    },
    {
     "name": "stdout",
     "output_type": "stream",
     "text": [
      "Epoch 9/20 - Loss: 0.4037 - Val Loss: 0.2711 - Val Acc: 90.20% - LSTM\n"
     ]
    },
    {
     "name": "stderr",
     "output_type": "stream",
     "text": [
      "                                                                                            \r"
     ]
    },
    {
     "name": "stdout",
     "output_type": "stream",
     "text": [
      "Epoch 10/20 - Loss: 0.3194 - Val Loss: 0.1988 - Val Acc: 92.45% - LSTM\n"
     ]
    },
    {
     "name": "stderr",
     "output_type": "stream",
     "text": [
      "                                                                                            \r"
     ]
    },
    {
     "name": "stdout",
     "output_type": "stream",
     "text": [
      "Epoch 11/20 - Loss: 0.2196 - Val Loss: 0.1826 - Val Acc: 93.90% - LSTM\n"
     ]
    },
    {
     "name": "stderr",
     "output_type": "stream",
     "text": [
      "                                                                                            \r"
     ]
    },
    {
     "name": "stdout",
     "output_type": "stream",
     "text": [
      "Epoch 12/20 - Loss: 0.1962 - Val Loss: 0.0975 - Val Acc: 96.30% - LSTM\n"
     ]
    },
    {
     "name": "stderr",
     "output_type": "stream",
     "text": [
      "                                                                                            \r"
     ]
    },
    {
     "name": "stdout",
     "output_type": "stream",
     "text": [
      "Epoch 13/20 - Loss: 0.1402 - Val Loss: 0.1040 - Val Acc: 96.30% - LSTM\n"
     ]
    },
    {
     "name": "stderr",
     "output_type": "stream",
     "text": [
      "                                                                                            \r"
     ]
    },
    {
     "name": "stdout",
     "output_type": "stream",
     "text": [
      "Epoch 14/20 - Loss: 0.1326 - Val Loss: 0.1194 - Val Acc: 96.30% - LSTM\n"
     ]
    },
    {
     "name": "stderr",
     "output_type": "stream",
     "text": [
      "                                                                                             \r"
     ]
    },
    {
     "name": "stdout",
     "output_type": "stream",
     "text": [
      "Epoch 15/20 - Loss: 0.1542 - Val Loss: 0.1073 - Val Acc: 96.35% - LSTM\n"
     ]
    },
    {
     "name": "stderr",
     "output_type": "stream",
     "text": [
      "                                                                                             \r"
     ]
    },
    {
     "name": "stdout",
     "output_type": "stream",
     "text": [
      "Epoch 16/20 - Loss: 0.1237 - Val Loss: 0.0669 - Val Acc: 97.00% - LSTM\n"
     ]
    },
    {
     "name": "stderr",
     "output_type": "stream",
     "text": [
      "                                                                                             \r"
     ]
    },
    {
     "name": "stdout",
     "output_type": "stream",
     "text": [
      "Epoch 17/20 - Loss: 0.1255 - Val Loss: 0.0744 - Val Acc: 96.65% - LSTM\n"
     ]
    },
    {
     "name": "stderr",
     "output_type": "stream",
     "text": [
      "                                                                                             \r"
     ]
    },
    {
     "name": "stdout",
     "output_type": "stream",
     "text": [
      "Epoch 18/20 - Loss: 0.1091 - Val Loss: 0.1026 - Val Acc: 96.30% - LSTM\n"
     ]
    },
    {
     "name": "stderr",
     "output_type": "stream",
     "text": [
      "                                                                                             \r"
     ]
    },
    {
     "name": "stdout",
     "output_type": "stream",
     "text": [
      "Epoch 19/20 - Loss: 0.1121 - Val Loss: 0.0899 - Val Acc: 96.65% - LSTM\n"
     ]
    },
    {
     "name": "stderr",
     "output_type": "stream",
     "text": [
      "                                                                                             \r"
     ]
    },
    {
     "name": "stdout",
     "output_type": "stream",
     "text": [
      "Epoch 20/20 - Loss: 0.0956 - Val Loss: 0.0696 - Val Acc: 96.45% - LSTM\n",
      "Best Validation Accuracy: 97.00% - LSTM\n",
      "Test Accuracy: 0.96% - LSTM\n",
      "              precision    recall  f1-score   support\n",
      "\n",
      "           0       0.85      0.87      0.86       100\n",
      "           1       1.00      0.99      0.99       100\n",
      "           2       1.00      0.95      0.97       100\n",
      "           3       0.97      1.00      0.99       100\n",
      "           4       1.00      1.00      1.00       100\n",
      "           5       0.99      1.00      1.00       100\n",
      "           6       1.00      0.99      0.99       100\n",
      "           7       1.00      0.99      0.99       100\n",
      "           8       1.00      1.00      1.00       100\n",
      "           9       1.00      1.00      1.00       100\n",
      "          10       1.00      1.00      1.00       100\n",
      "          11       0.99      1.00      1.00       100\n",
      "          12       0.98      1.00      0.99       100\n",
      "          13       0.99      1.00      1.00       100\n",
      "          14       1.00      1.00      1.00       100\n",
      "          15       1.00      1.00      1.00       100\n",
      "          16       0.96      0.92      0.94       100\n",
      "          17       0.97      0.99      0.98       100\n",
      "          18       0.87      0.79      0.83       100\n",
      "          19       0.70      0.76      0.73       100\n",
      "\n",
      "    accuracy                           0.96      2000\n",
      "   macro avg       0.96      0.96      0.96      2000\n",
      "weighted avg       0.96      0.96      0.96      2000\n",
      "\n",
      "Deep Learning results saved to: d:\\E\\2024.2\\project_2\\Project2_20-NewsGroups\\results/tables\\deep_models_results.csv\n"
     ]
    }
   ],
   "source": [
    "lstm_model = LSTMClassifier(embedding_dim, hidden_dim=128, num_layers=1, output_dim=num_classes, dropout_rate=0.5)\n",
    "lstm_model, val_accuracy_lstm, val_report_lstm = train_model(lstm_model, train_loader, val_loader, criterion, optim.Adam(lstm_model.parameters(), lr=0.001), epochs=20, model_name=\"LSTM\")\n",
    "test_accuracy_lstm, report_lstm = evaluate_model(lstm_model, test_loader, model_name=\"LSTM\")\n",
    "save_results(\"LSTMClassifier\", test_accuracy_lstm, report_lstm, val_accuracy_lstm, val_report_lstm)"
   ]
  },
  {
   "cell_type": "markdown",
   "metadata": {},
   "source": [
    "CNN"
   ]
  },
  {
   "cell_type": "code",
   "execution_count": 24,
   "metadata": {},
   "outputs": [
    {
     "name": "stderr",
     "output_type": "stream",
     "text": [
      "                                                                                          \r"
     ]
    },
    {
     "name": "stdout",
     "output_type": "stream",
     "text": [
      "Epoch 1/20 - Loss: 0.6924 - Val Loss: 0.0734 - Val Acc: 96.60% - CNN\n"
     ]
    },
    {
     "name": "stderr",
     "output_type": "stream",
     "text": [
      "                                                                                           \r"
     ]
    },
    {
     "name": "stdout",
     "output_type": "stream",
     "text": [
      "Epoch 2/20 - Loss: 0.1145 - Val Loss: 0.0583 - Val Acc: 97.30% - CNN\n"
     ]
    },
    {
     "name": "stderr",
     "output_type": "stream",
     "text": [
      "                                                                                           \r"
     ]
    },
    {
     "name": "stdout",
     "output_type": "stream",
     "text": [
      "Epoch 3/20 - Loss: 0.1068 - Val Loss: 0.0761 - Val Acc: 96.80% - CNN\n"
     ]
    },
    {
     "name": "stderr",
     "output_type": "stream",
     "text": [
      "                                                                                           \r"
     ]
    },
    {
     "name": "stdout",
     "output_type": "stream",
     "text": [
      "Epoch 4/20 - Loss: 0.0957 - Val Loss: 0.0923 - Val Acc: 96.45% - CNN\n"
     ]
    },
    {
     "name": "stderr",
     "output_type": "stream",
     "text": [
      "                                                                                           \r"
     ]
    },
    {
     "name": "stdout",
     "output_type": "stream",
     "text": [
      "Epoch 5/20 - Loss: 0.0884 - Val Loss: 0.0815 - Val Acc: 96.90% - CNN\n"
     ]
    },
    {
     "name": "stderr",
     "output_type": "stream",
     "text": [
      "                                                                                           \r"
     ]
    },
    {
     "name": "stdout",
     "output_type": "stream",
     "text": [
      "Epoch 6/20 - Loss: 0.0926 - Val Loss: 0.0672 - Val Acc: 96.80% - CNN\n"
     ]
    },
    {
     "name": "stderr",
     "output_type": "stream",
     "text": [
      "                                                                                            \r"
     ]
    },
    {
     "name": "stdout",
     "output_type": "stream",
     "text": [
      "Epoch 7/20 - Loss: 0.0875 - Val Loss: 0.0677 - Val Acc: 96.65% - CNN\n",
      "Early stopping triggered at epoch 7 - CNN\n",
      "Best Validation Accuracy: 97.30% - CNN\n",
      "Test Accuracy: 0.97% - CNN\n",
      "              precision    recall  f1-score   support\n",
      "\n",
      "           0       0.89      0.86      0.87       100\n",
      "           1       0.99      0.99      0.99       100\n",
      "           2       1.00      0.99      0.99       100\n",
      "           3       1.00      1.00      1.00       100\n",
      "           4       1.00      1.00      1.00       100\n",
      "           5       0.99      0.99      0.99       100\n",
      "           6       1.00      1.00      1.00       100\n",
      "           7       1.00      0.98      0.99       100\n",
      "           8       1.00      1.00      1.00       100\n",
      "           9       1.00      1.00      1.00       100\n",
      "          10       1.00      1.00      1.00       100\n",
      "          11       0.99      1.00      1.00       100\n",
      "          12       0.97      1.00      0.99       100\n",
      "          13       1.00      1.00      1.00       100\n",
      "          14       1.00      1.00      1.00       100\n",
      "          15       1.00      1.00      1.00       100\n",
      "          16       0.95      0.92      0.93       100\n",
      "          17       0.97      0.98      0.98       100\n",
      "          18       0.91      0.78      0.84       100\n",
      "          19       0.71      0.84      0.77       100\n",
      "\n",
      "    accuracy                           0.97      2000\n",
      "   macro avg       0.97      0.97      0.97      2000\n",
      "weighted avg       0.97      0.97      0.97      2000\n",
      "\n",
      "Deep Learning results saved to: d:\\E\\2024.2\\project_2\\Project2_20-NewsGroups\\results/tables\\deep_models_results.csv\n"
     ]
    }
   ],
   "source": [
    "cnn_model = CNNClassifier(embedding_dim, max_seq_len, num_classes)\n",
    "cnn_model, val_accuracy_cnn, val_report_cnn = train_model(cnn_model, train_loader, val_loader, criterion, optim.Adam(cnn_model.parameters(), lr=0.001), epochs=20, model_name=\"CNN\")\n",
    "test_accuracy_cnn, report_cnn = evaluate_model(cnn_model, test_loader, model_name=\"CNN\")\n",
    "save_results(\"CNNClassifier\", test_accuracy_cnn, report_cnn, val_accuracy_cnn, val_report_cnn)"
   ]
  },
  {
   "cell_type": "markdown",
   "metadata": {},
   "source": [
    "# 9. Save Models"
   ]
  },
  {
   "cell_type": "code",
   "execution_count": null,
   "metadata": {},
   "outputs": [],
   "source": [
    "torch.save(lstm_model.state_dict(), os.path.join(MODEL_DIR, \"lstm_model.pth\"))\n",
    "torch.save(cnn_model.state_dict(), os.path.join(MODEL_DIR, \"cnn_model.pth\"))"
   ]
  }
 ],
 "metadata": {
  "kernelspec": {
   "display_name": "Python 3",
   "language": "python",
   "name": "python3"
  },
  "language_info": {
   "codemirror_mode": {
    "name": "ipython",
    "version": 3
   },
   "file_extension": ".py",
   "mimetype": "text/x-python",
   "name": "python",
   "nbconvert_exporter": "python",
   "pygments_lexer": "ipython3",
   "version": "3.12.8"
  }
 },
 "nbformat": 4,
 "nbformat_minor": 2
}
