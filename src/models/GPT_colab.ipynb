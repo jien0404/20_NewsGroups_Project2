{
 "cells": [
  {
   "cell_type": "code",
   "execution_count": 4,
   "metadata": {
    "execution": {
     "iopub.execute_input": "2025-04-16T00:19:07.131182Z",
     "iopub.status.busy": "2025-04-16T00:19:07.130651Z",
     "iopub.status.idle": "2025-04-16T00:19:07.135365Z",
     "shell.execute_reply": "2025-04-16T00:19:07.134691Z",
     "shell.execute_reply.started": "2025-04-16T00:19:07.131163Z"
    },
    "trusted": true
   },
   "outputs": [],
   "source": [
    "import os\n",
    "import numpy as np\n",
    "import pandas as pd\n",
    "import torch\n",
    "import torch.nn as nn\n",
    "import torch.optim as optim\n",
    "from torch.utils.data import DataLoader, TensorDataset\n",
    "from sklearn.metrics import accuracy_score, classification_report\n",
    "from sklearn.preprocessing import LabelEncoder\n",
    "from transformers import GPT2Tokenizer, GPT2Model\n",
    "import joblib\n",
    "from tqdm import tqdm"
   ]
  },
  {
   "cell_type": "code",
   "execution_count": 5,
   "metadata": {
    "execution": {
     "iopub.execute_input": "2025-04-16T00:20:09.099613Z",
     "iopub.status.busy": "2025-04-16T00:20:09.098728Z",
     "iopub.status.idle": "2025-04-16T00:20:09.104000Z",
     "shell.execute_reply": "2025-04-16T00:20:09.103403Z",
     "shell.execute_reply.started": "2025-04-16T00:20:09.099588Z"
    },
    "trusted": true
   },
   "outputs": [],
   "source": [
    "# Directories\n",
    "BASE_DIR = \"/kaggle/working/\"\n",
    "DATA_DIR = \"/kaggle/input/processed/\"\n",
    "RESULTS_DIR = os.path.join(BASE_DIR, \"results\", \"tables\")\n",
    "MODEL_DIR = os.path.join(BASE_DIR, \"models\", \"deep_learning\")\n",
    "os.makedirs(RESULTS_DIR, exist_ok=True)\n",
    "os.makedirs(MODEL_DIR, exist_ok=True)"
   ]
  },
  {
   "cell_type": "code",
   "execution_count": 6,
   "metadata": {
    "execution": {
     "iopub.execute_input": "2025-04-16T00:20:20.525965Z",
     "iopub.status.busy": "2025-04-16T00:20:20.525623Z",
     "iopub.status.idle": "2025-04-16T00:20:22.123478Z",
     "shell.execute_reply": "2025-04-16T00:20:22.122889Z",
     "shell.execute_reply.started": "2025-04-16T00:20:20.525941Z"
    },
    "trusted": true
   },
   "outputs": [],
   "source": [
    "# Load data\n",
    "train_df = pd.read_csv(os.path.join(DATA_DIR, \"train.csv\"))\n",
    "val_df = pd.read_csv(os.path.join(DATA_DIR, \"val.csv\"))\n",
    "test_df = pd.read_csv(os.path.join(DATA_DIR, \"test.csv\"))"
   ]
  },
  {
   "cell_type": "code",
   "execution_count": 1,
   "metadata": {
    "execution": {
     "iopub.execute_input": "2025-04-16T00:20:31.603436Z",
     "iopub.status.busy": "2025-04-16T00:20:31.603155Z",
     "iopub.status.idle": "2025-04-16T00:20:31.627436Z",
     "shell.execute_reply": "2025-04-16T00:20:31.626803Z",
     "shell.execute_reply.started": "2025-04-16T00:20:31.603416Z"
    },
    "trusted": true
   },
   "outputs": [
    {
     "ename": "NameError",
     "evalue": "name 'LabelEncoder' is not defined",
     "output_type": "error",
     "traceback": [
      "\u001b[31m---------------------------------------------------------------------------\u001b[39m",
      "\u001b[31mNameError\u001b[39m                                 Traceback (most recent call last)",
      "\u001b[36mCell\u001b[39m\u001b[36m \u001b[39m\u001b[32mIn[1]\u001b[39m\u001b[32m, line 2\u001b[39m\n\u001b[32m      1\u001b[39m \u001b[38;5;66;03m# Label encoding\u001b[39;00m\n\u001b[32m----> \u001b[39m\u001b[32m2\u001b[39m label_encoder = \u001b[43mLabelEncoder\u001b[49m()\n\u001b[32m      3\u001b[39m train_df[\u001b[33m'\u001b[39m\u001b[33mlabel_enc\u001b[39m\u001b[33m'\u001b[39m] = label_encoder.fit_transform(train_df[\u001b[33m'\u001b[39m\u001b[33mlabel\u001b[39m\u001b[33m'\u001b[39m])\n\u001b[32m      4\u001b[39m val_df[\u001b[33m'\u001b[39m\u001b[33mlabel_enc\u001b[39m\u001b[33m'\u001b[39m] = label_encoder.transform(val_df[\u001b[33m'\u001b[39m\u001b[33mlabel\u001b[39m\u001b[33m'\u001b[39m])\n",
      "\u001b[31mNameError\u001b[39m: name 'LabelEncoder' is not defined"
     ]
    }
   ],
   "source": [
    "# Label encoding\n",
    "label_encoder = LabelEncoder()\n",
    "train_df['label_enc'] = label_encoder.fit_transform(train_df['label'])\n",
    "val_df['label_enc'] = label_encoder.transform(val_df['label'])\n",
    "test_df['label_enc'] = label_encoder.transform(test_df['label'])\n",
    "num_classes = len(label_encoder.classes_)\n",
    "joblib.dump(label_encoder, os.path.join(MODEL_DIR, \"label_encoder_gpt.pkl\"))"
   ]
  },
  {
   "cell_type": "code",
   "execution_count": 34,
   "metadata": {
    "execution": {
     "iopub.execute_input": "2025-04-16T00:38:56.074260Z",
     "iopub.status.busy": "2025-04-16T00:38:56.074002Z",
     "iopub.status.idle": "2025-04-16T00:38:56.531649Z",
     "shell.execute_reply": "2025-04-16T00:38:56.531136Z",
     "shell.execute_reply.started": "2025-04-16T00:38:56.074242Z"
    },
    "trusted": true
   },
   "outputs": [],
   "source": [
    "# Load tokenizer + model\n",
    "model_name = 'gpt2'\n",
    "tokenizer = GPT2Tokenizer.from_pretrained(model_name)\n",
    "tokenizer.pad_token = tokenizer.eos_token  # GPT2 không có [PAD], dùng eos_token thay thế\n",
    "gpt_model = GPT2Model.from_pretrained(model_name)\n",
    "\n",
    "# Freeze GPT2 nếu muốn chỉ huấn luyện classifier\n",
    "# for param in gpt_model.parameters():\n",
    "#     param.requires_grad = False"
   ]
  },
  {
   "cell_type": "code",
   "execution_count": 28,
   "metadata": {
    "execution": {
     "iopub.execute_input": "2025-04-16T00:33:01.566970Z",
     "iopub.status.busy": "2025-04-16T00:33:01.566367Z",
     "iopub.status.idle": "2025-04-16T00:33:01.570580Z",
     "shell.execute_reply": "2025-04-16T00:33:01.569910Z",
     "shell.execute_reply.started": "2025-04-16T00:33:01.566946Z"
    },
    "trusted": true
   },
   "outputs": [],
   "source": [
    "y_train = train_df['label_enc'].values\n",
    "y_val = val_df['label_enc'].values\n",
    "y_test = test_df['label_enc'].values"
   ]
  },
  {
   "cell_type": "code",
   "execution_count": 29,
   "metadata": {
    "execution": {
     "iopub.execute_input": "2025-04-16T00:33:04.841858Z",
     "iopub.status.busy": "2025-04-16T00:33:04.841367Z",
     "iopub.status.idle": "2025-04-16T00:33:04.848410Z",
     "shell.execute_reply": "2025-04-16T00:33:04.847717Z",
     "shell.execute_reply.started": "2025-04-16T00:33:04.841810Z"
    },
    "trusted": true
   },
   "outputs": [
    {
     "name": "stdout",
     "output_type": "stream",
     "text": [
      "Train: 15997, Val: 2000, Test: 2000\n"
     ]
    }
   ],
   "source": [
    "train_dataset = TensorDataset(train_input_ids, train_attention_masks, torch.tensor(y_train, dtype=torch.long))\n",
    "val_dataset   = TensorDataset(val_input_ids, val_attention_masks, torch.tensor(y_val, dtype=torch.long))\n",
    "test_dataset  = TensorDataset(test_input_ids, test_attention_masks, torch.tensor(y_test, dtype=torch.long))\n",
    "\n",
    "train_loader = DataLoader(train_dataset, batch_size=32, shuffle=True)\n",
    "val_loader   = DataLoader(val_dataset, batch_size=32, shuffle=False)\n",
    "test_loader  = DataLoader(test_dataset, batch_size=32, shuffle=False)\n",
    "\n",
    "print(f\"Train: {len(train_dataset)}, Val: {len(val_dataset)}, Test: {len(test_dataset)}\")"
   ]
  },
  {
   "cell_type": "code",
   "execution_count": 21,
   "metadata": {
    "execution": {
     "iopub.execute_input": "2025-04-16T00:28:56.748660Z",
     "iopub.status.busy": "2025-04-16T00:28:56.748165Z",
     "iopub.status.idle": "2025-04-16T00:28:56.762974Z",
     "shell.execute_reply": "2025-04-16T00:28:56.762087Z",
     "shell.execute_reply.started": "2025-04-16T00:28:56.748629Z"
    },
    "trusted": true
   },
   "outputs": [
    {
     "name": "stdout",
     "output_type": "stream",
     "text": [
      "Train label distribution:\n",
      "label\n",
      "rec.autos                   0.050009\n",
      "comp.windows.x              0.050009\n",
      "sci.crypt                   0.050009\n",
      "alt.atheism                 0.050009\n",
      "rec.motorcycles             0.050009\n",
      "comp.graphics               0.050009\n",
      "talk.politics.mideast       0.050009\n",
      "comp.sys.ibm.pc.hardware    0.050009\n",
      "talk.politics.guns          0.050009\n",
      "sci.electronics             0.050009\n",
      "misc.forsale                0.050009\n",
      "sci.med                     0.050009\n",
      "sci.space                   0.050009\n",
      "rec.sport.hockey            0.050009\n",
      "comp.sys.mac.hardware       0.050009\n",
      "rec.sport.baseball          0.050009\n",
      "talk.politics.misc          0.050009\n",
      "comp.os.ms-windows.misc     0.050009\n",
      "talk.religion.misc          0.050009\n",
      "soc.religion.christian      0.049822\n",
      "Name: proportion, dtype: float64\n",
      "Val label distribution:\n",
      "label\n",
      "soc.religion.christian      0.05\n",
      "comp.sys.ibm.pc.hardware    0.05\n",
      "rec.sport.baseball          0.05\n",
      "rec.autos                   0.05\n",
      "talk.politics.guns          0.05\n",
      "comp.graphics               0.05\n",
      "sci.space                   0.05\n",
      "comp.sys.mac.hardware       0.05\n",
      "sci.med                     0.05\n",
      "talk.religion.misc          0.05\n",
      "talk.politics.mideast       0.05\n",
      "talk.politics.misc          0.05\n",
      "sci.crypt                   0.05\n",
      "comp.os.ms-windows.misc     0.05\n",
      "sci.electronics             0.05\n",
      "rec.motorcycles             0.05\n",
      "comp.windows.x              0.05\n",
      "alt.atheism                 0.05\n",
      "misc.forsale                0.05\n",
      "rec.sport.hockey            0.05\n",
      "Name: proportion, dtype: float64\n"
     ]
    }
   ],
   "source": [
    "print(\"Train label distribution:\")\n",
    "print(train_df['label'].value_counts(normalize=True))\n",
    "print(\"Val label distribution:\")\n",
    "print(val_df['label'].value_counts(normalize=True))"
   ]
  },
  {
   "cell_type": "code",
   "execution_count": 22,
   "metadata": {
    "execution": {
     "iopub.execute_input": "2025-04-16T00:29:12.804528Z",
     "iopub.status.busy": "2025-04-16T00:29:12.803810Z",
     "iopub.status.idle": "2025-04-16T00:29:12.814635Z",
     "shell.execute_reply": "2025-04-16T00:29:12.813843Z",
     "shell.execute_reply.started": "2025-04-16T00:29:12.804504Z"
    },
    "trusted": true
   },
   "outputs": [
    {
     "name": "stdout",
     "output_type": "stream",
     "text": [
      "Sample input:\n",
      "Text: path cantaloupe srv c cmu edu magnesium club cc cmu edu news sei cmu edu ci ohio state edu zaphod mp ohio state edu sdd hp com foxtail blkhole vllyoak jp jp vllyoak resun com jeff perry newsgroups rec auto subject mustang message id date fri apr pdt reference organization private site san marcos california line jmh hopper virginia edu jeffrey hoffmeister writes article virginia edu blad got remind yes right somtime fall ford granddaddy car introducing new mega cool way fast accord driver mustang supposed streamlined looking similar mach iii concept car ford came around january wait anyone hear anything recently everything read correct ford nothing skinning existing mustang minor suspension modification picture seen indicate good job new mustang nothing cycle year old car saw picture mustang popular mechanic disappointment bombarded picture mach iii jp\n",
      "Label: rec.autos\n",
      "Tokenized IDs: tensor([ 6978, 18548,   282,   280,   431, 19677,    85,   269, 12067,    84]) ...\n"
     ]
    }
   ],
   "source": [
    "# Kiểm tra một vài mẫu đã tokenize\n",
    "sample_idx = 0\n",
    "print(\"Sample input:\")\n",
    "print(\"Text:\", train_df['clean_text'].iloc[sample_idx])\n",
    "print(\"Label:\", train_df['label'].iloc[sample_idx])\n",
    "print(\"Tokenized IDs:\", train_input_ids[sample_idx][:10], \"...\")"
   ]
  },
  {
   "cell_type": "code",
   "execution_count": 23,
   "metadata": {
    "execution": {
     "iopub.execute_input": "2025-04-16T00:29:34.335893Z",
     "iopub.status.busy": "2025-04-16T00:29:34.335359Z",
     "iopub.status.idle": "2025-04-16T00:29:34.345599Z",
     "shell.execute_reply": "2025-04-16T00:29:34.344784Z",
     "shell.execute_reply.started": "2025-04-16T00:29:34.335870Z"
    },
    "trusted": true
   },
   "outputs": [
    {
     "name": "stdout",
     "output_type": "stream",
     "text": [
      "label_enc\n",
      "7     800\n",
      "5     800\n",
      "11    800\n",
      "0     800\n",
      "8     800\n",
      "1     800\n",
      "17    800\n",
      "3     800\n",
      "16    800\n",
      "12    800\n",
      "6     800\n",
      "13    800\n",
      "14    800\n",
      "10    800\n",
      "4     800\n",
      "9     800\n",
      "18    800\n",
      "2     800\n",
      "19    800\n",
      "15    797\n",
      "Name: count, dtype: int64\n"
     ]
    }
   ],
   "source": [
    "print(train_df['label_enc'].value_counts())"
   ]
  },
  {
   "cell_type": "code",
   "execution_count": 24,
   "metadata": {
    "execution": {
     "iopub.execute_input": "2025-04-16T00:30:56.459750Z",
     "iopub.status.busy": "2025-04-16T00:30:56.459462Z",
     "iopub.status.idle": "2025-04-16T00:30:56.469079Z",
     "shell.execute_reply": "2025-04-16T00:30:56.468461Z",
     "shell.execute_reply.started": "2025-04-16T00:30:56.459730Z"
    },
    "trusted": true
   },
   "outputs": [
    {
     "name": "stdout",
     "output_type": "stream",
     "text": [
      "Train label_enc min: 0\n",
      "Train label_enc max: 19\n",
      "Number of classes: 20\n",
      "Unique labels in train: [ 7  5 11  0  8  1 17  3 16 12  6 15 13 10  4  9 14  2 18 19]\n"
     ]
    }
   ],
   "source": [
    "print(\"Train label_enc min:\", train_df['label_enc'].min())\n",
    "print(\"Train label_enc max:\", train_df['label_enc'].max())\n",
    "print(\"Number of classes:\", num_classes)\n",
    "print(\"Unique labels in train:\", train_df['label_enc'].unique())"
   ]
  },
  {
   "cell_type": "code",
   "execution_count": 39,
   "metadata": {
    "execution": {
     "iopub.execute_input": "2025-04-16T00:42:45.865219Z",
     "iopub.status.busy": "2025-04-16T00:42:45.864693Z",
     "iopub.status.idle": "2025-04-16T00:42:45.870153Z",
     "shell.execute_reply": "2025-04-16T00:42:45.869300Z",
     "shell.execute_reply.started": "2025-04-16T00:42:45.865194Z"
    },
    "trusted": true
   },
   "outputs": [],
   "source": [
    "# Define model\n",
    "class GPTClassifier(nn.Module):\n",
    "    def __init__(self, gpt_model, output_dim, dropout_rate=0.1):\n",
    "        super(GPTClassifier, self).__init__()\n",
    "        self.gpt = gpt_model\n",
    "        self.dropout = nn.Dropout(dropout_rate)\n",
    "        self.fc = nn.Linear(gpt_model.config.hidden_size, output_dim)\n",
    "\n",
    "    def forward(self, input_ids, attention_mask):\n",
    "        outputs = self.gpt(input_ids=input_ids, attention_mask=attention_mask)\n",
    "        # Mean pooling over all tokens\n",
    "        last_hidden = outputs.last_hidden_state\n",
    "        pooled = torch.mean(last_hidden, dim=1)\n",
    "        x = self.dropout(pooled)\n",
    "        self.fc(x)\n",
    "        return x"
   ]
  },
  {
   "cell_type": "code",
   "execution_count": 44,
   "metadata": {
    "execution": {
     "iopub.execute_input": "2025-04-16T00:45:43.655493Z",
     "iopub.status.busy": "2025-04-16T00:45:43.654976Z",
     "iopub.status.idle": "2025-04-16T00:45:43.664423Z",
     "shell.execute_reply": "2025-04-16T00:45:43.663859Z",
     "shell.execute_reply.started": "2025-04-16T00:45:43.655467Z"
    },
    "trusted": true
   },
   "outputs": [
    {
     "name": "stdout",
     "output_type": "stream",
     "text": [
      "cuda\n"
     ]
    }
   ],
   "source": [
    "device = torch.device(\"cuda\" if torch.cuda.is_available() else \"cpu\")\n",
    "print(device)\n",
    "model = GPTClassifier(gpt_model, num_classes).to(device)\n",
    "\n",
    "criterion = nn.CrossEntropyLoss()\n",
    "optimizer = optim.Adam(model.parameters(), lr=1e-4)  # nếu fine-tune GPT thì giảm lr"
   ]
  },
  {
   "cell_type": "code",
   "execution_count": 17,
   "metadata": {
    "execution": {
     "iopub.execute_input": "2025-04-16T00:26:12.066738Z",
     "iopub.status.busy": "2025-04-16T00:26:12.066198Z",
     "iopub.status.idle": "2025-04-16T00:26:12.075676Z",
     "shell.execute_reply": "2025-04-16T00:26:12.074783Z",
     "shell.execute_reply.started": "2025-04-16T00:26:12.066713Z"
    },
    "trusted": true
   },
   "outputs": [],
   "source": [
    "def train_model(model, train_loader, val_loader, criterion, optimizer, epochs=3, patience=1):\n",
    "    best_model_state = None\n",
    "    best_val_loss = float('inf')\n",
    "    best_val_acc = 0\n",
    "    epochs_no_improve = 0\n",
    "\n",
    "    for epoch in range(epochs):\n",
    "        model.train()\n",
    "        running_loss = 0.0\n",
    "        correct, total = 0, 0\n",
    "\n",
    "        loop = tqdm(train_loader, desc=f\"Epoch {epoch+1}/{epochs}\")\n",
    "        for input_ids, attention_mask, labels in loop:\n",
    "            input_ids, attention_mask, labels = input_ids.to(device), attention_mask.to(device), labels.to(device)\n",
    "            optimizer.zero_grad()\n",
    "            outputs = model(input_ids, attention_mask)\n",
    "            loss = criterion(outputs, labels)\n",
    "            loss.backward()\n",
    "            optimizer.step()\n",
    "\n",
    "            running_loss += loss.item()\n",
    "            _, preds = torch.max(outputs, dim=1)\n",
    "            correct += (preds == labels).sum().item()\n",
    "            total += labels.size(0)\n",
    "            loop.set_postfix(loss=loss.item(), acc=100 * correct / total)\n",
    "\n",
    "        # Validation\n",
    "        model.eval()\n",
    "        val_loss, val_correct, val_total = 0.0, 0, 0\n",
    "        val_preds, val_trues = [], []\n",
    "\n",
    "        with torch.no_grad():\n",
    "            for input_ids, attention_mask, labels in val_loader:\n",
    "                input_ids, attention_mask, labels = input_ids.to(device), attention_mask.to(device), labels.to(device)\n",
    "                outputs = model(input_ids, attention_mask)\n",
    "                loss = criterion(outputs, labels)\n",
    "                val_loss += loss.item()\n",
    "\n",
    "                _, preds = torch.max(outputs, dim=1)\n",
    "                val_correct += (preds == labels).sum().item()\n",
    "                val_total += labels.size(0)\n",
    "                val_preds.extend(preds.cpu().numpy())\n",
    "                val_trues.extend(labels.cpu().numpy())\n",
    "\n",
    "        val_acc = val_correct / val_total\n",
    "        avg_val_loss = val_loss / len(val_loader)\n",
    "\n",
    "        print(f\"[Epoch {epoch+1}] Val Loss: {avg_val_loss:.4f}, Val Acc: {val_acc*100:.2f}%\")\n",
    "\n",
    "        if avg_val_loss < best_val_loss:\n",
    "            best_val_loss = avg_val_loss\n",
    "            best_val_acc = val_acc\n",
    "            epochs_no_improve = 0\n",
    "            best_model_state = model.state_dict()\n",
    "        else:\n",
    "            epochs_no_improve += 1\n",
    "            if epochs_no_improve >= patience:\n",
    "                print(\"Early stopping.\")\n",
    "                break\n",
    "\n",
    "    model.load_state_dict(best_model_state)\n",
    "    return model, best_val_acc\n",
    "\n"
   ]
  },
  {
   "cell_type": "code",
   "execution_count": 18,
   "metadata": {
    "execution": {
     "iopub.execute_input": "2025-04-16T00:26:22.577184Z",
     "iopub.status.busy": "2025-04-16T00:26:22.576901Z",
     "iopub.status.idle": "2025-04-16T00:26:22.582636Z",
     "shell.execute_reply": "2025-04-16T00:26:22.581889Z",
     "shell.execute_reply.started": "2025-04-16T00:26:22.577167Z"
    },
    "trusted": true
   },
   "outputs": [],
   "source": [
    "def evaluate_model(model, test_loader):\n",
    "    model.eval()\n",
    "    all_preds, all_trues = [], []\n",
    "    with torch.no_grad():\n",
    "        for input_ids, attention_mask, labels in test_loader:\n",
    "            input_ids, attention_mask, labels = input_ids.to(device), attention_mask.to(device), labels.to(device)\n",
    "            outputs = model(input_ids, attention_mask)\n",
    "            _, preds = torch.max(outputs, dim=1)\n",
    "            all_preds.extend(preds.cpu().numpy())\n",
    "            all_trues.extend(labels.cpu().numpy())\n",
    "\n",
    "    acc = accuracy_score(all_trues, all_preds)\n",
    "    report = classification_report(all_trues, all_preds, output_dict=True, zero_division=0)\n",
    "    print(f\"Test Accuracy: {acc*100:.2f}%\")\n",
    "    print(classification_report(all_trues, all_preds))\n",
    "    return acc, report"
   ]
  },
  {
   "cell_type": "code",
   "execution_count": 19,
   "metadata": {
    "execution": {
     "iopub.execute_input": "2025-04-16T00:26:40.268796Z",
     "iopub.status.busy": "2025-04-16T00:26:40.268508Z",
     "iopub.status.idle": "2025-04-16T00:26:40.273370Z",
     "shell.execute_reply": "2025-04-16T00:26:40.272695Z",
     "shell.execute_reply.started": "2025-04-16T00:26:40.268775Z"
    },
    "trusted": true
   },
   "outputs": [],
   "source": [
    "def save_results(model_name, test_acc, test_report, val_acc):\n",
    "    results = {\n",
    "        \"Model\": model_name,\n",
    "        \"Test_Accuracy\": test_acc,\n",
    "        \"Test_F1\": test_report[\"weighted avg\"][\"f1-score\"],\n",
    "        \"Val_Accuracy\": val_acc\n",
    "    }\n",
    "    df = pd.DataFrame([results])\n",
    "    out_file = os.path.join(RESULTS_DIR, \"deep_models_results.csv\")\n",
    "    if os.path.exists(out_file):\n",
    "        df.to_csv(out_file, mode='a', index=False, header=False)\n",
    "    else:\n",
    "        df.to_csv(out_file, index=False)\n",
    "    print(f\"Saved results to {out_file}\")"
   ]
  },
  {
   "cell_type": "code",
   "execution_count": 45,
   "metadata": {
    "execution": {
     "iopub.execute_input": "2025-04-16T00:45:47.520099Z",
     "iopub.status.busy": "2025-04-16T00:45:47.519790Z",
     "iopub.status.idle": "2025-04-16T01:08:34.829562Z",
     "shell.execute_reply": "2025-04-16T01:08:34.828960Z",
     "shell.execute_reply.started": "2025-04-16T00:45:47.520080Z"
    },
    "trusted": true
   },
   "outputs": [
    {
     "name": "stderr",
     "output_type": "stream",
     "text": [
      "Epoch 1/3: 100%|██████████| 500/500 [07:13<00:00,  1.15it/s, acc=81.5, loss=0.104] \n"
     ]
    },
    {
     "name": "stdout",
     "output_type": "stream",
     "text": [
      "[Epoch 1] Val Loss: 0.1196, Val Acc: 97.10%\n"
     ]
    },
    {
     "name": "stderr",
     "output_type": "stream",
     "text": [
      "Epoch 2/3: 100%|██████████| 500/500 [07:11<00:00,  1.16it/s, acc=87.2, loss=0.471] \n"
     ]
    },
    {
     "name": "stdout",
     "output_type": "stream",
     "text": [
      "[Epoch 2] Val Loss: 0.1040, Val Acc: 97.10%\n"
     ]
    },
    {
     "name": "stderr",
     "output_type": "stream",
     "text": [
      "Epoch 3/3: 100%|██████████| 500/500 [07:13<00:00,  1.15it/s, acc=87.2, loss=0.258] \n"
     ]
    },
    {
     "name": "stdout",
     "output_type": "stream",
     "text": [
      "[Epoch 3] Val Loss: 0.0969, Val Acc: 97.05%\n",
      "Test Accuracy: 97.25%\n",
      "              precision    recall  f1-score   support\n",
      "\n",
      "           0       1.00      0.83      0.91       100\n",
      "           1       0.99      1.00      1.00       100\n",
      "           2       1.00      0.98      0.99       100\n",
      "           3       1.00      1.00      1.00       100\n",
      "           4       1.00      1.00      1.00       100\n",
      "           5       0.99      0.99      0.99       100\n",
      "           6       0.99      1.00      1.00       100\n",
      "           7       1.00      0.98      0.99       100\n",
      "           8       1.00      1.00      1.00       100\n",
      "           9       1.00      1.00      1.00       100\n",
      "          10       1.00      1.00      1.00       100\n",
      "          11       0.99      1.00      1.00       100\n",
      "          12       0.98      1.00      0.99       100\n",
      "          13       1.00      1.00      1.00       100\n",
      "          14       1.00      1.00      1.00       100\n",
      "          15       1.00      1.00      1.00       100\n",
      "          16       0.93      0.94      0.94       100\n",
      "          17       0.97      0.98      0.98       100\n",
      "          18       0.99      0.75      0.85       100\n",
      "          19       0.72      1.00      0.84       100\n",
      "\n",
      "    accuracy                           0.97      2000\n",
      "   macro avg       0.98      0.97      0.97      2000\n",
      "weighted avg       0.98      0.97      0.97      2000\n",
      "\n",
      "Saved results to /kaggle/working/results/tables/deep_models_results.csv\n"
     ]
    }
   ],
   "source": [
    "# Run training\n",
    "model, val_acc = train_model(model, train_loader, val_loader, criterion, optimizer, epochs=3)\n",
    "test_acc, test_report = evaluate_model(model, test_loader)\n",
    "save_results(\"GPT2Classifier\", test_acc, test_report, val_acc)"
   ]
  }
 ],
 "metadata": {
  "kaggle": {
   "accelerator": "nvidiaTeslaT4",
   "dataSources": [
    {
     "datasetId": 7157009,
     "sourceId": 11427341,
     "sourceType": "datasetVersion"
    }
   ],
   "dockerImageVersionId": 31011,
   "isGpuEnabled": true,
   "isInternetEnabled": true,
   "language": "python",
   "sourceType": "notebook"
  },
  "kernelspec": {
   "display_name": "Python 3",
   "language": "python",
   "name": "python3"
  },
  "language_info": {
   "codemirror_mode": {
    "name": "ipython",
    "version": 3
   },
   "file_extension": ".py",
   "mimetype": "text/x-python",
   "name": "python",
   "nbconvert_exporter": "python",
   "pygments_lexer": "ipython3",
   "version": "3.12.8"
  }
 },
 "nbformat": 4,
 "nbformat_minor": 4
}
